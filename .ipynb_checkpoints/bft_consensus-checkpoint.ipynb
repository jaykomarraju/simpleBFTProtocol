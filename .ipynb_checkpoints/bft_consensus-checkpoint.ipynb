{
 "cells": [
  {
   "cell_type": "code",
   "execution_count": null,
   "id": "160e1c2c",
   "metadata": {},
   "outputs": [],
   "source": [
    "# let's introduce Message types and a simple messaging queue for communication between nodes."
   ]
  },
  {
   "cell_type": "code",
   "execution_count": null,
   "id": "f628192e",
   "metadata": {},
   "outputs": [],
   "source": [
    "class Message:\n",
    "    def __init__(self, sender, receiver, content):\n",
    "        self.sender = sender\n",
    "        self.receiver = receiver\n",
    "        self.content = content"
   ]
  },
  {
   "cell_type": "code",
   "execution_count": null,
   "id": "7beadc0a",
   "metadata": {},
   "outputs": [],
   "source": [
    "class BlockProposal(Message):\n",
    "    pass"
   ]
  },
  {
   "cell_type": "code",
   "execution_count": null,
   "id": "bc70034f",
   "metadata": {},
   "outputs": [],
   "source": [
    "class Prevote(Message):\n",
    "    pass"
   ]
  },
  {
   "cell_type": "code",
   "execution_count": null,
   "id": "f7bbb79f",
   "metadata": {},
   "outputs": [],
   "source": [
    "class Precommit(Message):\n",
    "    pass"
   ]
  },
  {
   "cell_type": "code",
   "execution_count": null,
   "id": "cb1372e9",
   "metadata": {},
   "outputs": [],
   "source": [
    "class Block:\n",
    "    def __init__(self, data):\n",
    "        self.data = data"
   ]
  },
  {
   "cell_type": "code",
   "execution_count": null,
   "id": "c3c060f9",
   "metadata": {},
   "outputs": [],
   "source": [
    "class Node:\n",
    "    def __init__(self, name):\n",
    "        self.name = name\n",
    "        self.round = 0\n",
    "        self.step = 0\n",
    "        self.block_proposal = None\n",
    "        self.prevotes = []\n",
    "        self.precommits = []\n",
    "\n",
    "    def propose(self, block):\n",
    "        # A proposer broadcasts a proposal to all other nodes.\n",
    "        for node in nodes:\n",
    "            if node != self:\n",
    "                messaging_queue.append(BlockProposal(self, node, block))\n",
    "\n",
    "    def receive_message(self):\n",
    "        # Nodes can receive messages from the queue.\n",
    "        for message in list(messaging_queue):  # We make a copy of the list so we can modify it while iterating\n",
    "            if message.receiver == self:\n",
    "                if isinstance(message, BlockProposal) and self.step == 0:\n",
    "                    self.block_proposal = message.content\n",
    "                    self.step = 1\n",
    "                    # The node prevotes for the block as soon as it sees it.\n",
    "                    for node in nodes:\n",
    "                        if node != self:\n",
    "                            messaging_queue.append(Prevote(self, node, self.block_proposal))\n",
    "                elif isinstance(message, Prevote) and self.step == 1:\n",
    "                    self.prevotes.append(message.content)\n",
    "                    # If a node receives more than 2/3 prevotes for a block, it precommits to it.\n",
    "                    if self.prevotes.count(self.block_proposal) > 2/3*len(nodes):\n",
    "                        self.step = 2\n",
    "                        for node in nodes:\n",
    "                            if node != self:\n",
    "                                messaging_queue.append(Precommit(self, node, self.block_proposal))\n",
    "                elif isinstance(message, Precommit) and self.step == 2:\n",
    "                    self.precommits.append(message.content)\n",
    "                    # If a node receives more than 2/3 precommits for a block, it commits it.\n",
    "                    if self.precommits.count(self.block_proposal) > 2/3*len(nodes):\n",
    "                        self.step = 3\n",
    "                        print(f'{self.name} commits block {self.block_proposal.data}')\n",
    "                messaging_queue.remove(message)"
   ]
  },
  {
   "cell_type": "code",
   "execution_count": null,
   "id": "9f050673",
   "metadata": {},
   "outputs": [],
   "source": [
    "messaging_queue = []"
   ]
  },
  {
   "cell_type": "code",
   "execution_count": null,
   "id": "53b34ffc",
   "metadata": {},
   "outputs": [],
   "source": [
    "nodes = [Node('Node1'), Node('Node2'), Node('Node3'), Node('Node4')]"
   ]
  },
  {
   "cell_type": "code",
   "execution_count": null,
   "id": "265d721f",
   "metadata": {},
   "outputs": [],
   "source": [
    "block = Block('Block1')\n",
    "proposer = nodes[0]\n",
    "proposer.propose(block)"
   ]
  },
  {
   "cell_type": "code",
   "execution_count": null,
   "id": "cd335f4e",
   "metadata": {},
   "outputs": [],
   "source": [
    "# We simulate network communication by repeatedly making each node receive messages until all nodes have committed the block.\n",
    "while any(node.step < 3 for node in nodes):\n",
    "    for node in nodes:\n",
    "        node.receive_message()"
   ]
  },
  {
   "cell_type": "code",
   "execution_count": null,
   "id": "4c110e19",
   "metadata": {},
   "outputs": [],
   "source": []
  }
 ],
 "metadata": {
  "kernelspec": {
   "display_name": "Python 3 (ipykernel)",
   "language": "python",
   "name": "python3"
  },
  "language_info": {
   "codemirror_mode": {
    "name": "ipython",
    "version": 3
   },
   "file_extension": ".py",
   "mimetype": "text/x-python",
   "name": "python",
   "nbconvert_exporter": "python",
   "pygments_lexer": "ipython3",
   "version": "3.9.7"
  }
 },
 "nbformat": 4,
 "nbformat_minor": 5
}
